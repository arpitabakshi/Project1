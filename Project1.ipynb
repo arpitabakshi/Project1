{
 "cells": [
  {
   "cell_type": "code",
   "execution_count": 1,
   "id": "c0ea4dd0",
   "metadata": {},
   "outputs": [
    {
     "data": {
      "text/plain": [
       "'engineering'"
      ]
     },
     "execution_count": 1,
     "metadata": {},
     "output_type": "execute_result"
    }
   ],
   "source": [
    "mystring1=\"Aeronautical engineering\"\n",
    "mystring1[13:]"
   ]
  },
  {
   "cell_type": "code",
   "execution_count": 2,
   "id": "1d7cc8e6",
   "metadata": {},
   "outputs": [
    {
     "data": {
      "text/plain": [
       "'civil engineering'"
      ]
     },
     "execution_count": 2,
     "metadata": {},
     "output_type": "execute_result"
    }
   ],
   "source": [
    "\"civil\" + mystring1[12:]"
   ]
  },
  {
   "cell_type": "code",
   "execution_count": null,
   "id": "deee637b",
   "metadata": {},
   "outputs": [],
   "source": []
  }
 ],
 "metadata": {
  "kernelspec": {
   "display_name": "Python 3 (ipykernel)",
   "language": "python",
   "name": "python3"
  },
  "language_info": {
   "codemirror_mode": {
    "name": "ipython",
    "version": 3
   },
   "file_extension": ".py",
   "mimetype": "text/x-python",
   "name": "python",
   "nbconvert_exporter": "python",
   "pygments_lexer": "ipython3",
   "version": "3.9.12"
  }
 },
 "nbformat": 4,
 "nbformat_minor": 5
}
